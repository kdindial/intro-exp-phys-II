{
 "cells": [
  {
   "cell_type": "markdown",
   "metadata": {},
   "source": [
    "## Investigating propagation of errors"
   ]
  },
  {
   "cell_type": "code",
   "execution_count": 1,
   "metadata": {},
   "outputs": [
    {
     "name": "stdout",
     "output_type": "stream",
     "text": [
      "Populating the interactive namespace from numpy and matplotlib\n"
     ]
    }
   ],
   "source": [
    "%pylab inline --no-import-all"
   ]
  },
  {
   "cell_type": "code",
   "execution_count": 2,
   "metadata": {},
   "outputs": [],
   "source": [
    "mean_x = .8\n",
    "std_x = .2\n",
    "mean_y = 3.\n",
    "std_y = .9\n",
    "N = 1000\n",
    "x = np.random.normal(mean_x, std_x, N)\n",
    "y = np.random.normal(mean_y, std_y, N)"
   ]
  },
  {
   "cell_type": "markdown",
   "metadata": {},
   "source": [
    "## Single variable example: division"
   ]
  },
  {
   "cell_type": "code",
   "execution_count": 3,
   "metadata": {},
   "outputs": [
    {
     "data": {
      "text/plain": [
       "Text(0.5,0,'x')"
      ]
     },
     "execution_count": 3,
     "metadata": {},
     "output_type": "execute_result"
    },
    {
     "data": {
      "image/png": "[encoded data removed]",
      "text/plain": [
       "<matplotlib.figure.Figure at 0x10e4352e8>"
      ]
     },
     "metadata": {},
     "output_type": "display_data"
    }
   ],
   "source": [
    "counts, bins, patches = plt.hist(x, bins=50, normed=True, alpha=0.3)\n",
    "gaus_x = mlab.normpdf(bins, mean_x,std_x)\n",
    "\n",
    "q_for_plot = 1./bins\n",
    "\n",
    "plt.plot(bins, gaus_x, lw=2)\n",
    "plt.plot(bins, q_for_plot, lw=2)\n",
    "\n",
    "plt.xlabel('x')"
   ]
  },
  {
   "cell_type": "code",
   "execution_count": 12,
   "metadata": {},
   "outputs": [
    {
     "ename": "SyntaxError",
     "evalue": "invalid syntax (<ipython-input-12-8d6626907322>, line 3)",
     "output_type": "error",
     "traceback": [
      "\u001b[0;36m  File \u001b[0;32m\"<ipython-input-12-8d6626907322>\"\u001b[0;36m, line \u001b[0;32m3\u001b[0m\n\u001b[0;31m    pred_mean_q =  # fill in\u001b[0m\n\u001b[0m                            ^\u001b[0m\n\u001b[0;31mSyntaxError\u001b[0m\u001b[0;31m:\u001b[0m invalid syntax\n"
     ]
    }
   ],
   "source": [
    "q_of_x = 1./x\n",
    "\n",
    "pred_mean_q =  # fill in\n",
    "pred_std_q =   # fill in\n",
    "\n",
    "counts, bins, patches = plt.hist(q_of_x, bins=30, normed=True, alpha=0.3)\n",
    "\n",
    "plt.plot(bins, mlab.normpdf(bins, pred_mean_q, pred_std_q), c='r', lw=2)\n",
    "plt.legend(('pred','hist'))\n",
    "plt.xlabel('x')\n",
    "plt.ylabel('p(x)')"
   ]
  },
  {
   "cell_type": "markdown",
   "metadata": {},
   "source": [
    "### Check propagation of errors under addition "
   ]
  },
  {
   "cell_type": "code",
   "execution_count": null,
   "metadata": {},
   "outputs": [],
   "source": [
    "q_of_x_y = x+y\n",
    "\n",
    "pred_mean_q = # fill in\n",
    "pred_std_q = # fill in\n",
    "\n",
    "counts, bins, patches = plt.hist(q_of_x_y, bins=30, normed=True, alpha=0.3)\n",
    "\n",
    "plt.plot(bins, mlab.normpdf(bins, pred_mean_q, pred_std_q), c='r', lw=2)\n",
    "plt.legend(('pred','hist'))\n",
    "plt.xlabel('x')\n",
    "plt.ylabel('p(x)')"
   ]
  },
  {
   "cell_type": "markdown",
   "metadata": {},
   "source": [
    "### Check propagation of errors under addition "
   ]
  },
  {
   "cell_type": "code",
   "execution_count": 5,
   "metadata": {},
   "outputs": [
    {
     "ename": "SyntaxError",
     "evalue": "invalid syntax (<ipython-input-5-adb57b4ba359>, line 3)",
     "output_type": "error",
     "traceback": [
      "\u001b[0;36m  File \u001b[0;32m\"<ipython-input-5-adb57b4ba359>\"\u001b[0;36m, line \u001b[0;32m3\u001b[0m\n\u001b[0;31m    pred_mean_q = # fill in\u001b[0m\n\u001b[0m                           ^\u001b[0m\n\u001b[0;31mSyntaxError\u001b[0m\u001b[0;31m:\u001b[0m invalid syntax\n"
     ]
    }
   ],
   "source": [
    "q_of_x_y = x/y\n",
    "\n",
    "pred_mean_q = # fill in\n",
    "pred_std_q = # fill in\n",
    "\n",
    "counts, bins, patches = plt.hist(q_of_x_y, bins=30, normed=True, alpha=0.3)\n",
    "\n",
    "plt.plot(bins, mlab.normpdf(bins, pred_mean_q, pred_std_q), c='r', lw=2)\n"
   ]
  },
  {
   "cell_type": "code",
   "execution_count": null,
   "metadata": {},
   "outputs": [],
   "source": []
  },
  {
   "cell_type": "code",
   "execution_count": null,
   "metadata": {},
   "outputs": [],
   "source": []
  },
  {
   "cell_type": "code",
   "execution_count": 6,
   "metadata": {},
   "outputs": [],
   "source": [
    "## 1/x\n",
    "pred_mean_q = 1./mean_x\n",
    "pred_std_q = np.sqrt((std_x/mean_x)**2)/mean_x\n",
    "\n",
    "# x+y\n",
    "pred_mean_q = mean_x+mean_y\n",
    "pred_std_q = np.sqrt(std_x**2+std_y**2)\n",
    "\n",
    "# x/y\n",
    "pred_mean_q = mean_x/mean_y\n",
    "pred_std_q = np.sqrt((std_x/mean_x)**2+(std_y/mean_y)**2)*mean_x/mean_y\n",
    "\n",
    "\n"
   ]
  },
  {
   "cell_type": "code",
   "execution_count": null,
   "metadata": {},
   "outputs": [],
   "source": []
  },
  {
   "cell_type": "code",
   "execution_count": null,
   "metadata": {},
   "outputs": [],
   "source": []
  }
 ],
 "metadata": {
  "kernelspec": {
   "display_name": "Python 3",
   "language": "python",
   "name": "python3"
  },
  "language_info": {
   "codemirror_mode": {
    "name": "ipython",
    "version": 3
   },
   "file_extension": ".py",
   "mimetype": "text/x-python",
   "name": "python",
   "nbconvert_exporter": "python",
   "pygments_lexer": "ipython3",
   "version": "3.5.4"
  }
 },
 "nbformat": 4,
 "nbformat_minor": 1
}
